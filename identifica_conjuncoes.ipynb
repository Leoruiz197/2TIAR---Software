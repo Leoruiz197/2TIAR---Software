{
 "cells": [
  {
   "cell_type": "code",
   "execution_count": 10,
   "metadata": {},
   "outputs": [],
   "source": [
    "conjuncoes = ['ou', 'depois disso', 'por outro lado', 'por vezes', 'em geral', 'em última instância', 'logo', 'que sim', 'contudo', 'por essa razão', 'ainda assim',\n",
    " 'em detrimento', 'já que', 'porquanto', 'além disso', 'sobretudo', 'do mesmo modo', 'quer dizer', 'não apenas', 'embora', 'da mesma forma', 'em conformidade',\n",
    " 'nem tão pouco', 'como', 'pelo mesmo motivo', 'consequentemente', 'da mesma maneira', 'em suma', 'quanto mais', 'por esse motivo', 'de modo que', 'porém',\n",
    " 'em seguida', 'em vez de', 'por isso', 'tão somente', 'em comparação', 'daí que', 'pelo contrário', 'por consequência', 'mas', 'neste ínterim', 'em última análise',\n",
    " 'entretanto', 'de outra maneira', 'portanto', 'assim que', 'de forma que', 'em segundo lugar', 'quando', 'não só', 'de acordo com', 'com tudo isso', 'nem sequer',\n",
    " 'assim', 'tão logo', 'apesar de', 'apesar de tudo', 'ao passo que', 'conforme', 'antes que', 'noutro sentido', 'por exemplo', 'bem como', 'enquanto isso', 'porque',\n",
    " 'mesmo assim', 'com o intuito de', 'neste caso', 'apesar', 'em vez', 'a exemplo de', 'nesse ínterim', 'não obstante', 'tão pouco', 'igualmente', 'que', 'quer',\n",
    " 'que nem', 'não é que', 'ao mesmo tempo', 'como resultado', 'tão quanto', 'a fim de que', 'nem por isso', 'do mesmo jeito', 'uma vez que', 'desde que', 'em vez disso',\n",
    " 'por este motivo', 'com efeito', 'sendo assim', 'em síntese', 'ou seja', 'com tudo', 'em conjunto', 'em contraste', 'também', 'em virtude disso', 'ora', 'apesar disso',\n",
    " 'por conseguinte', 'depois que', 'em um certo sentido', 'dado que', 'mesmo que', 'de outro modo', 'de maneira que', 'em grande parte', 'no entanto', 'por um lado',\n",
    " 'caso', 'em alternativa', 'em terceiro lugar', 'em conclusão', 'tal como', 'nem', 'mas também', 'em virtude de', 'ainda que', 'em parte', 'nem sempre', 'em relação',\n",
    " 'em consequência', 'tão', 'dentro do mesmo contexto', 'para que', 'seja', 'e', 'enquanto', 'em adição', 'conquanto', 'neste sentido', 'ademais', 'se', 'inclusive',\n",
    " 'eventualmente', 'à vista disso', 'até que', 'em contrapartida', 'por causa de', 'todavia', 'pois', 'outra coisa', 'logo que', 'como se', 'às vezes', 'dessa forma',\n",
    " 'quem sabe', 'conjuntamente', 'senão', 'ao contrário', 'quanto a isso', 'a fim de', 'de outra forma', 'quiçá', 'pelo menos', 'do contrário', 'posto que', 'ao invés',\n",
    " 'como também', 'em conformidade com', 'tanto quanto', 'em particular', 'assim mesmo', 'tanto', 'nem tanto', 'visto que', 'nesse sentido', 'em igual medida',\"e\"]\n",
    "\n",
    "def identificar_conjuncoes():\n",
    "    def solicitar_frase():\n",
    "        return input(\"Digite uma frase: \")\n",
    "\n",
    "    frase = solicitar_frase()\n",
    "    tokens = frase.lower().split()\n",
    "    conjuncoes_encontradas = [token for token in tokens if token in conjuncoes]\n",
    "    return conjuncoes_encontradas\n",
    "\n",
    "conjuncoes_encontradas = identificar_conjuncoes()\n"
   ]
  },
  {
   "cell_type": "code",
   "execution_count": 11,
   "metadata": {},
   "outputs": [
    {
     "data": {
      "text/plain": [
       "['e']"
      ]
     },
     "execution_count": 11,
     "metadata": {},
     "output_type": "execute_result"
    }
   ],
   "source": [
    "conjuncoes_encontradas"
   ]
  },
  {
   "cell_type": "code",
   "execution_count": null,
   "metadata": {},
   "outputs": [],
   "source": [
    "O gato é preto e branco."
   ]
  }
 ],
 "metadata": {
  "kernelspec": {
   "display_name": "Python 3",
   "language": "python",
   "name": "python3"
  },
  "language_info": {
   "codemirror_mode": {
    "name": "ipython",
    "version": 3
   },
   "file_extension": ".py",
   "mimetype": "text/x-python",
   "name": "python",
   "nbconvert_exporter": "python",
   "pygments_lexer": "ipython3",
   "version": "3.10.6"
  }
 },
 "nbformat": 4,
 "nbformat_minor": 2
}
